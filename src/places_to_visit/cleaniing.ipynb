{
 "cells": [
  {
   "cell_type": "code",
   "execution_count": 1,
   "metadata": {},
   "outputs": [],
   "source": [
    "import pandas as pd"
   ]
  },
  {
   "cell_type": "code",
   "execution_count": 2,
   "metadata": {},
   "outputs": [],
   "source": [
    "import re"
   ]
  },
  {
   "cell_type": "code",
   "execution_count": 3,
   "metadata": {},
   "outputs": [],
   "source": [
    "import json\n",
    "from typing import Union"
   ]
  },
  {
   "cell_type": "code",
   "execution_count": 4,
   "metadata": {},
   "outputs": [],
   "source": [
    "json_path = \"raw.json\""
   ]
  },
  {
   "cell_type": "code",
   "execution_count": 5,
   "metadata": {},
   "outputs": [],
   "source": [
    "data_o = pd.read_json(json_path, orient=\"columns\")"
   ]
  },
  {
   "cell_type": "code",
   "execution_count": 13,
   "metadata": {},
   "outputs": [],
   "source": [
    "data = data_o.copy()"
   ]
  },
  {
   "cell_type": "markdown",
   "metadata": {},
   "source": [
    "#### 1. Data Cleaning for \"about\" section : \n",
    "    As the section tell about description of the dataset, many of text analysis could be done on the mentioned column but as of now out motive is not looking into text analytics , hence we will replace the section with another column as \"description_provided\" as boolean True if description for a given Attraction place is provided or not."
   ]
  },
  {
   "cell_type": "code",
   "execution_count": 14,
   "metadata": {},
   "outputs": [],
   "source": [
    "def clean_about_section(dataframe, about_column_name) -> pd.DataFrame:\n",
    "    # Where description is not present put False other wise its True\n",
    "    dataframe[\"description_provided\"] = dataframe[about_column_name].astype(bool)\n",
    "    # There are no further necesity for the about column\n",
    "    dataframe.drop(columns=[about_column_name], inplace=True)\n",
    "    return dataframe\n",
    "\n",
    "data = clean_about_section(data, \"about\")"
   ]
  },
  {
   "cell_type": "markdown",
   "metadata": {},
   "source": [
    "#### Breadcrumbs\n",
    "\n",
    "This column is actually act as a navigation to a particular geographical entity to the atttraction place. It holds very usefull insights regarding Country name, Location and State name."
   ]
  },
  {
   "cell_type": "code",
   "execution_count": 15,
   "metadata": {
    "scrolled": true
   },
   "outputs": [],
   "source": [
    "def geographical_heirarchy(breadcrumbs: str) :\n",
    "    if breadcrumbs:\n",
    "        places = breadcrumbs.split(\" > \")\n",
    "        country = places[0]\n",
    "        state = places[1]\n",
    "        location = None\n",
    "        state_region = None\n",
    "        place_name_from_breadcrumbs = None\n",
    "        separator_element = [places.index(l) for l in places if l.startswith('Places')]\n",
    "        \n",
    "        if separator_element:        \n",
    "            location = places[separator_element[0]-1]\n",
    "            state_region = places[separator_element[0]-2] if places[separator_element[0]-2]!= places[1] else None\n",
    "            try :\n",
    "                place_name_from_breadcrumbs = places[separator_element[0]+1]\n",
    "            except : \n",
    "                place_name_from_breadcrumbs = None\n",
    "        return country, state, state_region, location, place_name_from_breadcrumbs\n",
    "    return None, None, None, None, None\n",
    "\n",
    "x = data[\"breadcrumbs\"].apply(geographical_heirarchy)\n",
    "data = pd.concat([data, pd.DataFrame(x.to_list(), columns = [\"country\",\"state\",\"state_region\",\"location\", \"place_name_from_breadcrumbs\"])],axis=1)\n",
    "data.drop(columns=[\"breadcrumbs\"], inplace=True)"
   ]
  },
  {
   "cell_type": "markdown",
   "metadata": {},
   "source": [
    "#### Place Names \n",
    "\n",
    "There are instances where place names are not provided by scrapper, but we could get them from the breadcrumbs value"
   ]
  },
  {
   "cell_type": "code",
   "execution_count": 16,
   "metadata": {},
   "outputs": [],
   "source": [
    "mask = data[data[\"place_name\"].isnull()].index\n",
    "data.loc[mask,\"place_name\"] = data.loc[mask,\"place_name_from_breadcrumbs\"]\n",
    "\n",
    "# remove left over instances where place informatio is not provided\n",
    "data = data[~data[\"place_name\"].isnull()]"
   ]
  },
  {
   "cell_type": "markdown",
   "metadata": {},
   "source": [
    "#### Suggested Durations : \n",
    "There is a mix of None and empty string present, thus we need to put them all None"
   ]
  },
  {
   "cell_type": "code",
   "execution_count": 18,
   "metadata": {},
   "outputs": [],
   "source": [
    "def clean_suggested_duration(dataframe: pd.DataFrame, suggested_duration_column: str):\n",
    "    dataframe.loc[dataframe[suggested_duration_column] == \"\", suggested_duration_column] = None\n",
    "    return dataframe\n",
    "\n",
    "data = clean_suggested_duration(data, \"suggested_duration\")"
   ]
  },
  {
   "cell_type": "markdown",
   "metadata": {},
   "source": [
    "#### Ranking of a place based on its activity\n",
    "For column \"ranking_of_place\" we can probably split it into the place rank, total number of places for such activity as well as activity names."
   ]
  },
  {
   "cell_type": "code",
   "execution_count": 19,
   "metadata": {},
   "outputs": [],
   "source": [
    "ranking_pattern= re.compile(r\".+?([,\\d]+)\\s+\\w+\\s+([,\\d]+)\\s+(.*)\\sin.*\") \n",
    "\n",
    "def clean_ranking_of_place(text):\n",
    "    ranking, total_activity_places, activity = None, None, text\n",
    "    if isinstance(text, str) and text :\n",
    "        match = ranking_pattern.match(text)\n",
    "        if match:\n",
    "            ranking = match.group(1).replace(\",\",\"\")\n",
    "            total_activity_places = match.group(2).replace(\",\",\"\")\n",
    "            activity = match.group(3)\n",
    "    \n",
    "    return ranking, total_activity_places, activity\n",
    "\n",
    "# few values for ranking of place end up in place category due to scraping issues\n",
    "mask = data[data[\"place_category\"].fillna(\"\").str.startswith(\"#\")].index\n",
    "data.loc[mask,\"ranking_of_place\"] = data.loc[mask,\"place_category\"]\n",
    "data.loc[mask,'place_category'] = None\n",
    "\n",
    "temp_split_data = data[\"ranking_of_place\"].apply(clean_ranking_of_place)\n",
    "data = pd.concat([data, pd.DataFrame(temp_split_data.to_list(), columns = [\"ranking\",\"total_activity_places\",\"activity\"]) ], axis=1)\n",
    "data.drop(columns=[\"ranking_of_place\"], inplace=True)"
   ]
  },
  {
   "cell_type": "markdown",
   "metadata": {},
   "source": [
    "#### Place Category\n",
    "\n",
    "This has some abnormal text characters present which should be taken out"
   ]
  },
  {
   "cell_type": "code",
   "execution_count": 20,
   "metadata": {},
   "outputs": [],
   "source": [
    "def clean_place_category(text):\n",
    "    if isinstance(text, str):\n",
    "        text = re.sub(r\"•\",\",\", text)\n",
    "        text = re.sub(r\"\\s+,\\s+\",\", \",text)\n",
    "        text = re.sub(r\"\\s+\", \" \", text)\n",
    "    return text\n",
    "    \n",
    "data[\"place_category\"] = data[\"place_category\"].apply(lambda x : clean_place_category(x))"
   ]
  },
  {
   "cell_type": "markdown",
   "metadata": {},
   "source": [
    "#### Nearby Restraunts witin 5kms\n",
    "We hould remove all the text present in this column and only provide number of restraunt present within 5 km"
   ]
  },
  {
   "cell_type": "code",
   "execution_count": 21,
   "metadata": {},
   "outputs": [],
   "source": [
    "# there are attractions present inside restraunt columns, hence we need to swap the values\n",
    "mask = data[data[\"nearby_restraunts\"].fillna(\"\").str.endswith(\"10 kms\")].index\n",
    "data.loc[mask,\"nearby_attractions\"] = data.loc[mask,\"nearby_restraunts\"]\n",
    "data.loc[mask,\"nearby_restraunts\"] = \"\"\n",
    "\n",
    "def clean_nearby(text: str):\n",
    "    if isinstance(text, str) and text:\n",
    "        return text.strip().split()[0]\n",
    "    return None\n",
    "\n",
    "data[\"nearby_restraunts_within_5_kms\"] = data[\"nearby_restraunts\"].apply(clean_nearby)\n",
    "data[\"nearby_attractions_within_10_kms\"] = data[\"nearby_attractions\"].apply(clean_nearby)\n",
    "\n",
    "data.drop(columns=[\"nearby_restraunts\",\"nearby_attractions\"], inplace=True)"
   ]
  },
  {
   "cell_type": "markdown",
   "metadata": {},
   "source": [
    "#### Total reviews count\n",
    "\n",
    "These should be numbers but sometime there are text representations present"
   ]
  },
  {
   "cell_type": "code",
   "execution_count": 22,
   "metadata": {},
   "outputs": [],
   "source": [
    "def clean_reviews(item:Union[str,int]) -> str:\n",
    "    if isinstance(item, str):\n",
    "        item = item.strip().split()[0].replace(\",\",\"\")\n",
    "        return item\n",
    "    return 0\n",
    "\n",
    "data[\"total_reviews_count\"] = data[\"total_reviews_count\"].apply(clean_reviews).astype(int)\n",
    "data[\"excellent_reviews_count\"] = data[\"excellent_reviews_count\"].apply(clean_reviews).astype(int)\n",
    "data[\"very_good_reviews_count\"] = data[\"very_good_reviews_count\"].apply(clean_reviews).astype(int)\n",
    "data[\"average_reviews_count\"] = data[\"average_reviews_count\"].apply(clean_reviews).astype(int)\n",
    "data[\"poor_reviews_count\"] = data[\"poor_reviews_count\"].apply(clean_reviews).astype(int)\n",
    "data[\"terrible_reviews_count\"] = data[\"terrible_reviews_count\"].apply(clean_reviews).astype(int)"
   ]
  },
  {
   "cell_type": "markdown",
   "metadata": {},
   "source": [
    "#### Average Revies\n",
    "\n",
    "These must be present if not provided by the websites using the existing dataset"
   ]
  },
  {
   "cell_type": "code",
   "execution_count": 23,
   "metadata": {},
   "outputs": [],
   "source": [
    "data[\"average_reviews\"] = round(((5*data[\"excellent_reviews_count\"] + 4*data[\"very_good_reviews_count\"] + 3*data[\"average_reviews_count\"] + 2*data[\"poor_reviews_count\"] + 1*data[\"terrible_reviews_count\"]) / (data[\"excellent_reviews_count\"] + data[\"very_good_reviews_count\"] + data[\"average_reviews_count\"] + data[\"poor_reviews_count\"] + data[\"terrible_reviews_count\"]))*2)/2"
   ]
  },
  {
   "cell_type": "markdown",
   "metadata": {},
   "source": [
    "#### Page URL \n",
    "This is an extra information , which has url for the page of extration scrapped for validation purpose, this has no such use for data analysis."
   ]
  },
  {
   "cell_type": "code",
   "execution_count": 24,
   "metadata": {},
   "outputs": [],
   "source": [
    "data.drop(columns = [\"page_url\"], inplace=True)"
   ]
  },
  {
   "cell_type": "code",
   "execution_count": 25,
   "metadata": {},
   "outputs": [],
   "source": [
    "data = data[\n",
    "    [\n",
    "        \"place_name\",\n",
    "        'country', \n",
    "        'state', \n",
    "        'state_region', \n",
    "        'location',\n",
    "        \"area\",\n",
    "        \"place_category\",\n",
    "        \"activity\",\n",
    "        'ranking',\n",
    "        'total_activity_places',\n",
    "        'total_reviews_count', \n",
    "        'excellent_reviews_count',\n",
    "        'very_good_reviews_count', \n",
    "        'average_reviews_count',\n",
    "        'poor_reviews_count', \n",
    "        'terrible_reviews_count',\n",
    "        \"average_reviews\",\n",
    "        \"description_provided\", \n",
    "        'nearby_restraunts_within_5_kms',\n",
    "        'nearby_attractions_within_10_kms',\n",
    "        \"suggested_duration\"\n",
    "    ]\n",
    "]"
   ]
  },
  {
   "cell_type": "code",
   "execution_count": 27,
   "metadata": {},
   "outputs": [],
   "source": [
    "data.to_excel(\"cleaned.xlsx\", index = False)"
   ]
  },
  {
   "cell_type": "code",
   "execution_count": 32,
   "metadata": {},
   "outputs": [],
   "source": [
    "data.to_json(\"cleaned.json\", orient = \"table\", indent = 2, index = False)"
   ]
  }
 ],
 "metadata": {
  "kernelspec": {
   "display_name": ".intro-to-py",
   "language": "python",
   "name": ".intro-to-py"
  },
  "language_info": {
   "codemirror_mode": {
    "name": "ipython",
    "version": 3
   },
   "file_extension": ".py",
   "mimetype": "text/x-python",
   "name": "python",
   "nbconvert_exporter": "python",
   "pygments_lexer": "ipython3",
   "version": "3.8.10"
  }
 },
 "nbformat": 4,
 "nbformat_minor": 4
}
